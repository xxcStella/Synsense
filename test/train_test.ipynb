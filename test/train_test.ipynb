{
 "cells": [
  {
   "cell_type": "code",
   "execution_count": 16,
   "metadata": {},
   "outputs": [],
   "source": [
    "from synsense.net.auto import AutoSNN\n",
    "from synsense.net.dataset import Dataset_Texture_Stream\n",
    "import torch.nn as nn"
   ]
  },
  {
   "cell_type": "markdown",
   "metadata": {},
   "source": [
    "Split train and test data into lists"
   ]
  },
  {
   "cell_type": "code",
   "execution_count": 2,
   "metadata": {},
   "outputs": [],
   "source": [
    "from user import split_train_test\n",
    "root = r'J:\\coop\\data\\20150115_stream_us\\processed'\n",
    "train_size = 0.7\n",
    "random_seed = 42\n",
    "train_list, test_list = split_train_test(root, train_size, random_seed)"
   ]
  },
  {
   "cell_type": "markdown",
   "metadata": {},
   "source": [
    "Dataset creation"
   ]
  },
  {
   "cell_type": "code",
   "execution_count": 15,
   "metadata": {},
   "outputs": [
    {
     "name": "stdout",
     "output_type": "stream",
     "text": [
      "700 300\n",
      "torch.Size([40, 1, 20, 20]) tensor(1)\n"
     ]
    }
   ],
   "source": [
    "device = \"pc\"\n",
    "gridsize = (20, 20)\n",
    "after_crop_size = (260, 260, 1)\n",
    "n_time_bins = 40\n",
    "\n",
    "train_dataset = Dataset_Texture_Stream(train_list, device, gridsize, after_crop_size, n_time_bins)\n",
    "test_dataset = Dataset_Texture_Stream(test_list, device, gridsize, after_crop_size, n_time_bins)\n",
    "\n",
    "print(len(train_dataset), len(test_dataset))\n",
    "print(train_dataset[0][0].shape, train_dataset[0][1])"
   ]
  },
  {
   "cell_type": "code",
   "execution_count": null,
   "metadata": {},
   "outputs": [],
   "source": [
    "batch_size = 60\n",
    "auto = AutoSNN(batch_size)\n",
    "model_path = r'./models/event_stream_us.pt'\n",
    "device = \"cuda:0\"\n",
    "k_folds = 2\n",
    "epochs = 7\n",
    "cnn = nn.Sequential(\n",
    "    nn.Conv2d(1, 8, 3, 1, bias=False),\n",
    "    nn.ReLU(),\n",
    "    nn.AvgPool2d(2, 2),\n",
    "    nn.Conv2d(8, 16, 3, 1, bias=False),\n",
    "    nn.ReLU(),\n",
    "    nn.Flatten(),\n",
    "    nn.Linear(64, 128, bias=False),\n",
    "    nn.ReLU(),\n",
    "    nn.Linear(128, 10, bias=False)\n",
    ")\n",
    "\n",
    "train_accs, val_accs = auto.train(model_path, cnn, train_dataset, device, k_folds, epochs)"
   ]
  },
  {
   "cell_type": "code",
   "execution_count": null,
   "metadata": {},
   "outputs": [],
   "source": []
  },
  {
   "cell_type": "code",
   "execution_count": null,
   "metadata": {},
   "outputs": [],
   "source": []
  }
 ],
 "metadata": {
  "kernelspec": {
   "display_name": "synsense-gpu",
   "language": "python",
   "name": "python3"
  },
  "language_info": {
   "codemirror_mode": {
    "name": "ipython",
    "version": 3
   },
   "file_extension": ".py",
   "mimetype": "text/x-python",
   "name": "python",
   "nbconvert_exporter": "python",
   "pygments_lexer": "ipython3",
   "version": "3.8.18"
  }
 },
 "nbformat": 4,
 "nbformat_minor": 2
}
